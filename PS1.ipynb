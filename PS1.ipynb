{
 "cells": [
  {
   "cell_type": "markdown",
   "id": "3e6f665b",
   "metadata": {},
   "source": [
    "# Question 1\n",
    "\n",
    "What data type is each of the following (evaluate where necessary)?\n",
    "\n",
    "<p>\r\n",
    "5<br>\r\n",
    "5.0<br>\r\n",
    "5 > 1<br>\r\n",
    "'5'<br>\r\n",
    "5 * 2<br>\r\n",
    "'5' * 2<br>\r\n",
    "'5' + '2'<br>\r\n",
    "5 / 2<br>\r\n",
    "5 % 2<br>\r\n",
    "{5, 2, 1}<br>\r\n",
    "5 == 3<br>\r\n",
    "Pi (the number)</p>"
   ]
  },
  {
   "cell_type": "code",
   "execution_count": 1,
   "id": "e4f071ac",
   "metadata": {},
   "outputs": [
    {
     "name": "stdout",
     "output_type": "stream",
     "text": [
      "<class 'int'>\n",
      "<class 'float'>\n",
      "<class 'bool'>\n",
      "<class 'str'>\n",
      "<class 'int'>\n",
      "<class 'str'>\n",
      "<class 'str'>\n",
      "<class 'float'>\n",
      "<class 'int'>\n",
      "<class 'set'>\n",
      "<class 'bool'>\n",
      "<class 'float'>\n"
     ]
    }
   ],
   "source": [
    "import math #importing to work with Pi value (math.pi)\n",
    "\n",
    "print(type(5)) #integer\n",
    "print(type(5.0)) #float\n",
    "print(type(5 > 1)) #boolean\n",
    "print(type('5')) #string\n",
    "print(type(5 * 2)) #interger\n",
    "print(type('5' * 2)) #string\n",
    "print(type('5' + '2')) #string\n",
    "print(type(5 / 2)) #float\n",
    "print(type(5 % 2)) #integer\n",
    "print(type({5, 2, 1})) #set\n",
    "print(type(5 == 3)) #boolean\n",
    "print(type(math.pi)) #float"
   ]
  },
  {
   "cell_type": "markdown",
   "id": "f9365933",
   "metadata": {},
   "source": [
    "# Question 2\n",
    "\n",
    "Write (and evaluate) python expressions that answer these questions:\n",
    "\n",
    "a. How many letters are there in 'Supercalifragilisticexpialidocious'?\n",
    "\n",
    "b. Does 'Supercalifragilisticexpialidocious' contain 'ice' as a substring?\n",
    "\n",
    "c. Which of the following words is the longest:\n",
    "Supercalifragilisticexpialidocious, Honorificabilitudinitatibus, or Bababadalgharaghtakamminarronnkonn?\n",
    "\n",
    "d. Which composer comes first in the dictionary: 'Berlioz', 'Borodin', 'Brian', 'Bartok', 'Bellini', 'Buxtehude', 'Bernstein'. Which one comes last?"
   ]
  },
  {
   "cell_type": "code",
   "execution_count": 2,
   "id": "9cb9a7c7",
   "metadata": {},
   "outputs": [
    {
     "name": "stdout",
     "output_type": "stream",
     "text": [
      "34\n",
      "True\n",
      "Supercalifragilisticexpialidocious\n",
      "Bartok\n"
     ]
    }
   ],
   "source": [
    "#Question A = 34\n",
    "\n",
    "print(len(\"Supercalifragilisticexpialidocious\"))\n",
    "\n",
    "#Question B = True\n",
    "\n",
    "str = \"Supercalifragilisticexpialidocious\"\n",
    "print(\"ice\" in str)\n",
    "\n",
    "#question C = Supercalifragilisticexpialidocious\n",
    "\n",
    "lst = [\"Supercalifragilisticexpialidocious\",\"Honorificabilitudinitatibus\",\"Bababadalgharaghtakamminarronnkonn\"]\n",
    "print(max(lst))\n",
    "\n",
    "#Question D = Bartok\n",
    "\n",
    "lst2 = ['Berlioz', 'Borodin', 'Brian', 'Bartok', 'Bellini', 'Buxtehude', 'Bernstein']\n",
    "lst2.sort()\n",
    "print(lst2[0])"
   ]
  },
  {
   "cell_type": "markdown",
   "id": "606165d0",
   "metadata": {},
   "source": [
    "# Question 3\n",
    "\n",
    "Implement function triangleArea(a,b,c) that takes as input the lengths of the 3 sides of a triangle and returns the area of the triangle. By Heron's formula, the area of a triangle with side lengths a, b, and c is sqrt(s(s - a)(s -b)(s -c)), where s = (a+b+c)/2.\n",
    "\n",
    "<p>>>> triangleArea(2,2,2)<br>\r\n",
    "1.7320508075688772</p>"
   ]
  },
  {
   "cell_type": "code",
   "execution_count": 3,
   "id": "628893ce",
   "metadata": {},
   "outputs": [
    {
     "name": "stdout",
     "output_type": "stream",
     "text": [
      "1.7320508075688772\n"
     ]
    }
   ],
   "source": [
    "def triangleArea (a,b,c):\n",
    "    \"\"\"\n",
    "    takes as input the lengths of the 3 sides of a triangle and returns the area of the triangle\n",
    "    \"\"\"\n",
    "    s = float(a+b+c)/2\n",
    "    area = math.sqrt(s*(s - a)*(s -b)*(s -c)) #math was already imported on Q1 to run math.pi\n",
    "    return area\n",
    "\n",
    "print(triangleArea(2,2,2))"
   ]
  },
  {
   "cell_type": "markdown",
   "id": "df139787-f3d7-41e6-94b6-de1ddbf300e1",
   "metadata": {},
   "source": [
    "# Question 4\n",
    "<p>Write a program in python to separate odd and even integers in separate arrays. Go to the editor Test Data :</p>\r\n",
    "\r\n",
    "<p>Input the number of elements to be stored in the array: 5<br>\r\n",
    "Input 5 elements in the array :<br>\r\n",
    "element - 0 : 25<br>\r\n",
    "element - 1 : 47<br>\r\n",
    "element - 2 : 42<br>\r\n",
    "element - 3 : 56<br>\r\n",
    "element - 4 : 32</p>\r\n",
    "\r\n",
    "<p>Expected Output:<br>\r\n",
    "The Even elements are: 42 56 32<br>\r\n",
    "The Odd elements are : 25 47</p>"
   ]
  },
  {
   "cell_type": "code",
   "execution_count": 4,
   "id": "84e3d3d0-14e9-4120-a16a-60c45a2d6a58",
   "metadata": {},
   "outputs": [
    {
     "name": "stdout",
     "output_type": "stream",
     "text": [
      "The Even elements are: [42, 56, 32]\n",
      "The Odd elements are: [25, 47]\n"
     ]
    }
   ],
   "source": [
    "lst = [25,47,42,56,32]\n",
    "\n",
    "def oddOrEven(lst):\n",
    "    \"\"\"\n",
    "    check if integer in list is divisible by 2, and print results into two separate lists in the order they appear in the original list\n",
    "    \"\"\"\n",
    "    odd = [] #creating empy lists to store values\n",
    "    even = []\n",
    "    for i in lst:\n",
    "        if i % 2 == 0:\n",
    "            even.append(i)\n",
    "        else:\n",
    "            odd.append(i)\n",
    "    print(\"The Even elements are:\",even)\n",
    "    print(\"The Odd elements are:\",odd)\n",
    "\n",
    "oddOrEven(lst)"
   ]
  },
  {
   "cell_type": "markdown",
   "id": "2234460b-8171-4a65-b606-badcb5c16716",
   "metadata": {},
   "source": [
    "# Question 5\n",
    "<p>a. Write a function inside(x,y,x1,y1,x2,y2) that returns True or False depending on whether the point (x,y) lies in the rectangle with lower left corner (x1,y1) and upper right corner (x2,y2).</p>\r\n",
    "\r\n",
    "<p>>>> inside(1,1,0,0,2,3)<br>\r\n",
    "True<br>\r\n",
    ">>> inside(-1,-1,0,0,2,3)<br>\r\n",
    "False</p>\r\n",
    "\r\n",
    "<p>b. Use function inside() from part a. to write an expression that tests whether the point (1,1) lies in both of the following rectangles: one with lower left corner (0.3, 0.5) and upper right corner (1.1, 0.7) and the other with lower left corner (0.5, 0.2) and upper right corner (1.1, 2).</p>"
   ]
  },
  {
   "cell_type": "code",
   "execution_count": 5,
   "id": "df53062d-3eeb-4f58-89f8-ed3751376b49",
   "metadata": {},
   "outputs": [
    {
     "name": "stdout",
     "output_type": "stream",
     "text": [
      "True\n",
      "False\n",
      "\n",
      "False\n",
      "True\n"
     ]
    }
   ],
   "source": [
    "def inside(x,y,x1,y1,x2,y2):\n",
    "    \"\"\"\n",
    "    check if x and y are between lower ranges x1 and y2 and higher ranges x2 and y2\n",
    "    \"\"\"\n",
    "    if x1<x<x2 and y1<y<y2:\n",
    "        return True\n",
    "    else:\n",
    "        return False\n",
    "\n",
    "# Answer for question A below\n",
    "print(inside(1,1,0,0,2,3))\n",
    "print(inside(-1,-1,0,0,2,3))\n",
    "print()\n",
    "\n",
    "# Answer for question B below\n",
    "print(inside(1,1,0.3,0.5,1.1,0.7))\n",
    "print(inside(1,1,0.5,0.2,1.1,2))"
   ]
  },
  {
   "cell_type": "markdown",
   "id": "0e2152c6-0016-4680-95fe-a4a86dc65cc1",
   "metadata": {},
   "source": [
    "# Question 6\n",
    "<p>You can turn a word into pig-Latin using the following two rules (simplified):</p>\r\n",
    "\r\n",
    "<p>&bull; If the word starts with a consonant, move that letter to the end and append 'ay'. For example, 'happy' becomes 'appyhay' and 'pencil' becomes 'encilpay'.<br>\r\n",
    "&bull; If the word starts with a vowel, simply append 'way' to the end of the word. For example, 'enter' becomes 'enterway' and 'other' becomes 'otherway' . For our purposes, there are 5 vowels: a, e, i, o, u (so we count y as a consonant).</p>\r\n",
    "\r\n",
    "<p>Write a function pig() that takes a word (i.e., a string) as input and returns its pigLatin form. Your function should still work if the input word contains upper case characters. Your output should always be lower case however.</p>\r\n",
    "\r\n",
    "<p>>>> pig('happy')<br>\r\n",
    "'appyhay'<br>\r\n",
    ">>> pig('Enter')<br>\r\n",
    "'enterway</p>"
   ]
  },
  {
   "cell_type": "code",
   "execution_count": 6,
   "id": "e5e6d85a-f364-439f-8900-2be257f38603",
   "metadata": {},
   "outputs": [
    {
     "name": "stdout",
     "output_type": "stream",
     "text": [
      "appyhay\n",
      "enterway\n"
     ]
    }
   ],
   "source": [
    "def pig(x):\n",
    "    \"\"\"\n",
    "    If the word starts with a consonant, move that letter to the end and append 'ay'\n",
    "    If the word starts with a vowel, append 'way' to the end of the word\n",
    "    \"\"\"\n",
    "    x = x.lower()\n",
    "    cons = x[0]+\"ay\"\n",
    "    vowel = \"way\"\n",
    "    if x[0] in ('a', 'e', 'i', 'o', 'u'):\n",
    "        return x+vowel      \n",
    "    else:\n",
    "        return x[1:]+cons\n",
    "        \n",
    "print(pig('happy'))\n",
    "print(pig('Enter'))"
   ]
  },
  {
   "cell_type": "markdown",
   "id": "9852ceb0-5570-4c8f-8a1e-dd70e55222be",
   "metadata": {},
   "source": [
    "# Question 7\n",
    "<p>File bloodtype1.txt records blood-types of patients (A, B, AB, O or OO) at a clinic.</p>\n",
    "\n",
    "<p>Write a function bldcount() that reads the file with name name and reports (i.e., prints) how many patients there are in each bloodtype.<br>\n",
    ">>> bldcount('bloodtype.txt')</p>\n",
    "\n",
    "<p>There are 10 patients of blood type A.<br>\n",
    "There is one patient of blood type B.<br>\n",
    "There are 10 patients of blood type AB.<br>\n",
    "There are 12 patients of blood type O.<br>\n",
    "There are no patients of blood type OO.<br>\n",
    "</p>"
   ]
  },
  {
   "cell_type": "code",
   "execution_count": 7,
   "id": "5761675d-5b36-4552-bb39-8ea8230b3a69",
   "metadata": {},
   "outputs": [
    {
     "name": "stdout",
     "output_type": "stream",
     "text": [
      "There are 15 patients of blood type A.\n",
      "There are 1 patients of blood type B.\n",
      "There are 13 patients of blood type AB.\n",
      "There are 15 patients of blood type O.\n",
      "There are 0 patients of blood type OO.\n"
     ]
    }
   ],
   "source": [
    "def bldcount(x):\n",
    "    \"\"\"\n",
    "    Reads the file and prints how many patients there are in each bloodtype\n",
    "    \"\"\"\n",
    "    #Code to read the file\n",
    "    infile = open('bloodtype1.txt')\n",
    "    content = infile.read()\n",
    "\n",
    "    #Creating a list with a separator to start counting\n",
    "    li = list(content.split(\" \"))\n",
    "    \n",
    "    A = li.count(\"A\")\n",
    "    print(f\"There are {A} patients of blood type A.\")\n",
    "    B = li.count(\"B\")\n",
    "    print(f\"There are {B} patients of blood type B.\")\n",
    "    AB = li.count(\"AB\")\n",
    "    print(f\"There are {AB} patients of blood type AB.\")\n",
    "    O = li.count(\"O\")\n",
    "    print(f\"There are {O} patients of blood type O.\")\n",
    "    OO = li.count(\"OO\")\n",
    "    print(f\"There are {OO} patients of blood type OO.\")\n",
    "\n",
    "bldcount('bloodtype1.txt')"
   ]
  },
  {
   "cell_type": "markdown",
   "id": "10529fa6-2830-4ffa-9b5a-533d5491ed68",
   "metadata": {},
   "source": [
    "# Question 8\n",
    "<p>Write a function curconv() that takes as input:</p>\r\n",
    "\r\n",
    "<p>1. a currency represented using a string (e.g., 'JPY' for the Japanese Yen or 'EUR' for the Euro)<br>\r\n",
    "2. an amount and then converts and returns the amount in US dollars.</p>\r\n",
    "\r\n",
    "<p>>>> curconv('EUR', 100)<br>\r\n",
    "122.96544<br>\r\n",
    ">>> curconv('JPY', 100)<br>\r\n",
    "1.241401</p>\r\n",
    "\r\n",
    "<p>The currency rates you will need are stored in file currencies.txt:</p>"
   ]
  },
  {
   "cell_type": "code",
   "execution_count": 8,
   "id": "2fd1f2c9-0e65-43a9-9d10-730340d59f92",
   "metadata": {},
   "outputs": [
    {
     "name": "stdout",
     "output_type": "stream",
     "text": [
      "122.96544\n",
      "1.241401\n"
     ]
    }
   ],
   "source": [
    "def curconv(currency, amount):  \n",
    "    \"\"\"\n",
    "    Takes currency and amount as input, and convert to USD based on file currencies.txt\n",
    "    \"\"\"\n",
    "    infile = open('currencies.txt') #first two lines to read file and check each line\n",
    "    content = infile.readlines()\n",
    "    currency = currency.upper()\n",
    "    \n",
    "    for line in content:\n",
    "        idx = line.split(\"\\t\")  #file currencies has a separator \"\\t\". Splitting lines so [0] will be currency and [1] exchange_rate\n",
    "        \n",
    "        if idx[0] == currency:\n",
    "            exchange_rate = float(idx[1])  #idx[1] was string, so step here is to convert it to float\n",
    "            return amount * exchange_rate\n",
    "\n",
    "print(curconv('EUR', 100))\n",
    "print(curconv('JPY', 100))"
   ]
  },
  {
   "cell_type": "markdown",
   "id": "f01c6582-52b1-4ae2-98ef-a58cf2d8933f",
   "metadata": {},
   "source": [
    "# Question 9\n",
    "<p>Each of the following will cause an exception (an error). Identify what type of exception each will cause.</p>\r\n",
    "\r\n",
    "<p>a. Trying to add incompatible variables, as in adding 6 + &lsquo;a&rsquo;<br>\r\n",
    "b. Referring to the 12th item of a list that has only 10 items<br>\r\n",
    "c. Using a value that is out of range for a function&rsquo;s input, such as calling math.sqrt(-1.0)<br>\r\n",
    "d. Using an undeclared variable, such as print(x) when x has not been defined<br>\r\n",
    "e. Trying to open a file that does not exist, such as mistyping the file name or looking in the wrong directory.</p>"
   ]
  },
  {
   "cell_type": "code",
   "execution_count": 9,
   "id": "6a5b0ec0-028f-4635-9223-7a59fd6af297",
   "metadata": {},
   "outputs": [
    {
     "ename": "TypeError",
     "evalue": "unsupported operand type(s) for +: 'int' and 'str'",
     "output_type": "error",
     "traceback": [
      "\u001b[1;31m---------------------------------------------------------------------------\u001b[0m",
      "\u001b[1;31mTypeError\u001b[0m                                 Traceback (most recent call last)",
      "Cell \u001b[1;32mIn[9], line 1\u001b[0m\n\u001b[1;32m----> 1\u001b[0m s \u001b[38;5;241m=\u001b[39m \u001b[38;5;241m6\u001b[39m \u001b[38;5;241m+\u001b[39m \u001b[38;5;124m'\u001b[39m\u001b[38;5;124ma\u001b[39m\u001b[38;5;124m'\u001b[39m \u001b[38;5;66;03m#a = TypeError\u001b[39;00m\n\u001b[0;32m      3\u001b[0m l\u001b[38;5;241m=\u001b[39m[\u001b[38;5;241m1\u001b[39m,\u001b[38;5;241m2\u001b[39m,\u001b[38;5;241m3\u001b[39m,\u001b[38;5;241m4\u001b[39m,\u001b[38;5;241m5\u001b[39m,\u001b[38;5;241m6\u001b[39m,\u001b[38;5;241m7\u001b[39m,\u001b[38;5;241m8\u001b[39m,\u001b[38;5;241m9\u001b[39m,\u001b[38;5;241m10\u001b[39m]\n\u001b[0;32m      4\u001b[0m \u001b[38;5;28mprint\u001b[39m(l[\u001b[38;5;241m12\u001b[39m]) \u001b[38;5;66;03m#b = IndexError\u001b[39;00m\n",
      "\u001b[1;31mTypeError\u001b[0m: unsupported operand type(s) for +: 'int' and 'str'"
     ]
    }
   ],
   "source": [
    "s = 6 + 'a' #a = TypeError\n",
    "\n",
    "l=[1,2,3,4,5,6,7,8,9,10]\n",
    "print(l[12]) #b = IndexError\n",
    "\n",
    "math.sqrt(-1.0) #c = ValueError\n",
    "\n",
    "print(x) #d = NameError\n",
    "\n",
    "infile = open('bloodtype1') #e = FileNotFoundError"
   ]
  },
  {
   "cell_type": "markdown",
   "id": "87749fc9-25f7-4330-b55f-3b90ae2f22c1",
   "metadata": {},
   "source": [
    "# Question 10\n",
    "<p>Encryption is the process of hiding the meaning of a text by substituting letters in the message with other letters, according to some system. If the process is successful, no one but the intended recipient can understand the encrypted message. Cryptanalysis refers to attempts to undo the encryption, even if some details of the encryption are unknown (for example, if an encrypted message has been intercepted). The first step of cryptanalysis is often to build up a table of letter frequencies in the encrypted text.</p>\n",
    "\n",
    "<p>Assume that the string letters is already defined as 'abcdefghijklmnopqrstuvwxyz'. Write a function called frequencies() that takes a string as its only parameter, and returns a list of integers, showing the number of times each character appears in the text. Your function may ignore any characters that are not in letters.</p>\n",
    "\n",
    "<p>>>> frequencies('The quick red fox got bored and went home.')<br>\n",
    "[1, 1, 1, 3, 5, 1, 1, 2, 1, 0, 1, 0, 1, 2, 4, 0, 1, 2, 0, 2, 1, 0, 1, 1, 0, 0]<br>\n",
    ">>> frequencies('apple')</p>"
   ]
  },
  {
   "cell_type": "code",
   "execution_count": 37,
   "id": "5955a6d7-4e22-4062-a6f7-da479f209403",
   "metadata": {},
   "outputs": [
    {
     "name": "stdout",
     "output_type": "stream",
     "text": [
      "[1, 1, 1, 3, 5, 1, 1, 2, 1, 0, 1, 0, 1, 2, 4, 0, 1, 2, 0, 2, 1, 0, 1, 1, 0, 0]\n",
      "[1, 0, 0, 0, 1, 0, 0, 0, 0, 0, 0, 1, 0, 0, 0, 2, 0, 0, 0, 0, 0, 0, 0, 0, 0, 0]\n"
     ]
    }
   ],
   "source": [
    "def frequencies(encryption): \n",
    "    \"\"\"\n",
    "    Takes a string and returns a list of integers whowing the number of times each character from a-z appears in the text\n",
    "    \"\"\"\n",
    "    base = list('abcdefghijklmnopqrstuvwxyz') # List of characters from a-z\n",
    "    # If we were to check for uppercase letters, I would aso add this -> encryption = encryption.lower()\n",
    "    result = [] \n",
    "    counter = 0 \n",
    "    \n",
    "    for i in base:\n",
    "        for j in encryption:\n",
    "            if i == j:\n",
    "                counter += 1\n",
    "\n",
    "        # For each time a character from a-z appears in the encryption, it adds a counter\n",
    "        # The counter is appended to the result list at the end of the loop and is reset\n",
    "        \n",
    "        result.append(counter) \n",
    "        counter = 0\n",
    "        \n",
    "    return result\n",
    "        \n",
    "print(frequencies('The quick red fox got bored and went home.'))\n",
    "print(frequencies('apple'))"
   ]
  },
  {
   "cell_type": "code",
   "execution_count": null,
   "id": "484c4fac-1374-486d-9c72-920a0aaf0745",
   "metadata": {},
   "outputs": [],
   "source": []
  }
 ],
 "metadata": {
  "kernelspec": {
   "display_name": "Python 3 (ipykernel)",
   "language": "python",
   "name": "python3"
  },
  "language_info": {
   "codemirror_mode": {
    "name": "ipython",
    "version": 3
   },
   "file_extension": ".py",
   "mimetype": "text/x-python",
   "name": "python",
   "nbconvert_exporter": "python",
   "pygments_lexer": "ipython3",
   "version": "3.11.7"
  }
 },
 "nbformat": 4,
 "nbformat_minor": 5
}
